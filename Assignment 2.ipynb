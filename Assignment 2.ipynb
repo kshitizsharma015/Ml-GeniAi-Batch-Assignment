{
 "cells": [
  {
   "cell_type": "code",
   "execution_count": 47,
   "id": "5c6eedaa",
   "metadata": {},
   "outputs": [
    {
     "name": "stdout",
     "output_type": "stream",
     "text": [
      "int32\n"
     ]
    }
   ],
   "source": [
    "# Q1 \n",
    "import numpy as n\n",
    "x=n.array([0,1,2,3,4,5])\n",
    "print(x.dtype)\n"
   ]
  },
  {
   "cell_type": "code",
   "execution_count": 48,
   "id": "eeb5c265",
   "metadata": {},
   "outputs": [
    {
     "name": "stdout",
     "output_type": "stream",
     "text": [
      "True\n"
     ]
    }
   ],
   "source": [
    "# Q2\n",
    "x=n.array([1.0,2.0])\n",
    "print(x.dtype=='float64')\n"
   ]
  },
  {
   "cell_type": "code",
   "execution_count": 49,
   "id": "7b965e62",
   "metadata": {},
   "outputs": [
    {
     "name": "stdout",
     "output_type": "stream",
     "text": [
      "[1.+2.j 2.+3.j 3.+4.j]\n"
     ]
    }
   ],
   "source": [
    "# Q3\n",
    "x=n.array([1+2j,2+3j,3+4j],dtype='complex128')\n",
    "print(x)\n"
   ]
  },
  {
   "cell_type": "code",
   "execution_count": 50,
   "id": "480d0328",
   "metadata": {},
   "outputs": [
    {
     "name": "stdout",
     "output_type": "stream",
     "text": [
      "[1. 2. 3.]\n"
     ]
    }
   ],
   "source": [
    "# Q4\n",
    "x=n.array([1,2,3])\n",
    "print(x.astype('float32'))\n"
   ]
  },
  {
   "cell_type": "code",
   "execution_count": 51,
   "id": "9568f6e3",
   "metadata": {},
   "outputs": [
    {
     "name": "stdout",
     "output_type": "stream",
     "text": [
      "[1.1 2.2 3.3]\n"
     ]
    }
   ],
   "source": [
    "# Q5\n",
    "x=n.array([1.1,2.2,3.3],dtype='float64')\n",
    "print(x.astype('float32'))\n"
   ]
  },
  {
   "cell_type": "code",
   "execution_count": 52,
   "id": "a94c16d9",
   "metadata": {},
   "outputs": [
    {
     "name": "stdout",
     "output_type": "stream",
     "text": [
      "((3,), 3, dtype('int32'))\n"
     ]
    }
   ],
   "source": [
    "# Q6\n",
    "def aa(x):\n",
    " return x.shape,x.size,x.dtype\n",
    "x=n.array([1,2,3])\n",
    "print(aa(x))\n"
   ]
  },
  {
   "cell_type": "code",
   "execution_count": 53,
   "id": "a87bf86c",
   "metadata": {},
   "outputs": [
    {
     "name": "stdout",
     "output_type": "stream",
     "text": [
      "2\n"
     ]
    }
   ],
   "source": [
    "# Q7\n",
    "def bb(x):\n",
    " return x.ndim\n",
    "x=n.array([[1,2],[3,4]])\n",
    "print(bb(x))\n"
   ]
  },
  {
   "cell_type": "code",
   "execution_count": 54,
   "id": "1acb0c06",
   "metadata": {},
   "outputs": [
    {
     "name": "stdout",
     "output_type": "stream",
     "text": [
      "(4, 12)\n"
     ]
    }
   ],
   "source": [
    "# Q8\n",
    "def cc(x):\n",
    " return x.itemsize,x.nbytes\n",
    "x=n.array([1,2,3])\n",
    "print(cc(x))\n"
   ]
  },
  {
   "cell_type": "code",
   "execution_count": 55,
   "id": "fff8a5a7",
   "metadata": {},
   "outputs": [
    {
     "name": "stdout",
     "output_type": "stream",
     "text": [
      "(8, 4)\n"
     ]
    }
   ],
   "source": [
    "# Q9\n",
    "def dd(x):\n",
    " return x.strides\n",
    "x=n.array([[1,2],[3,4]])\n",
    "print(dd(x))\n"
   ]
  },
  {
   "cell_type": "code",
   "execution_count": 56,
   "id": "6b15f20d",
   "metadata": {},
   "outputs": [
    {
     "name": "stdout",
     "output_type": "stream",
     "text": [
      "((2, 2), (8, 4))\n"
     ]
    }
   ],
   "source": [
    "# Q10\n",
    "def ee(x):\n",
    " return x.shape,x.strides\n",
    "x=n.array([[1,2],[3,4]])\n",
    "print(ee(x))\n"
   ]
  },
  {
   "cell_type": "code",
   "execution_count": 57,
   "id": "974b4daf",
   "metadata": {},
   "outputs": [
    {
     "name": "stdout",
     "output_type": "stream",
     "text": [
      "[0. 0. 0. 0. 0.]\n"
     ]
    }
   ],
   "source": [
    "# Q11\n",
    "def zz(size):\n",
    "    return n.zeros(size)\n",
    "\n",
    "print(zz(5))\n",
    "\n"
   ]
  },
  {
   "cell_type": "code",
   "execution_count": 58,
   "id": "5eaf1c3e",
   "metadata": {},
   "outputs": [
    {
     "name": "stdout",
     "output_type": "stream",
     "text": [
      "[[1. 1. 1.]\n",
      " [1. 1. 1.]]\n"
     ]
    }
   ],
   "source": [
    "# Q12\n",
    "def oo(r,c):\n",
    " return n.ones((r,c))\n",
    "print(oo(2,3))\n"
   ]
  },
  {
   "cell_type": "code",
   "execution_count": 59,
   "id": "25953221",
   "metadata": {},
   "outputs": [
    {
     "name": "stdout",
     "output_type": "stream",
     "text": [
      "[1 3 5 7 9]\n"
     ]
    }
   ],
   "source": [
    "# Q13\n",
    "def rr(s,e,t):\n",
    " return n.arange(s,e,t)\n",
    "print(rr(1,10,2))\n"
   ]
  },
  {
   "cell_type": "code",
   "execution_count": 60,
   "id": "16cfbba2",
   "metadata": {},
   "outputs": [
    {
     "name": "stdout",
     "output_type": "stream",
     "text": [
      "[1.   1.25 1.5  1.75 2.  ]\n"
     ]
    }
   ],
   "source": [
    "# Q14\n",
    "def tt(a, b, num):\n",
    "    return n.linspace(a, b, num)\n",
    "\n",
    "print(tt(1, 2, 5))\n",
    "\n"
   ]
  },
  {
   "cell_type": "code",
   "execution_count": 61,
   "id": "2d8cfca1",
   "metadata": {},
   "outputs": [
    {
     "name": "stdout",
     "output_type": "stream",
     "text": [
      "[[1. 0. 0.]\n",
      " [0. 1. 0.]\n",
      " [0. 0. 1.]]\n"
     ]
    }
   ],
   "source": [
    "# Q15\n",
    "\n",
    "def mm(size):\n",
    "    return n.eye(size)\n",
    "\n",
    "print(mm(3))\n",
    "\n"
   ]
  },
  {
   "cell_type": "code",
   "execution_count": 62,
   "id": "2605b3fd",
   "metadata": {},
   "outputs": [
    {
     "name": "stdout",
     "output_type": "stream",
     "text": [
      "[1 2 3]\n"
     ]
    }
   ],
   "source": [
    "# Q16\n",
    "a=[1,2,3]\n",
    "print(n.array(a))\n"
   ]
  },
  {
   "cell_type": "code",
   "execution_count": 63,
   "id": "6096dde3",
   "metadata": {},
   "outputs": [
    {
     "name": "stdout",
     "output_type": "stream",
     "text": [
      "[1 2 3]\n"
     ]
    }
   ],
   "source": [
    "# Q17\n",
    "a=n.array([1,2,3])\n",
    "b=a.view()\n",
    "print(b)\n"
   ]
  },
  {
   "cell_type": "code",
   "execution_count": 64,
   "id": "9a83968e",
   "metadata": {},
   "outputs": [
    {
     "name": "stdout",
     "output_type": "stream",
     "text": [
      "[[1 2]\n",
      " [3 4]]\n"
     ]
    }
   ],
   "source": [
    "# Q18\n",
    "def cat(a,b,ax):\n",
    " return n.concatenate((a,b),axis=ax)\n",
    "print(cat(n.array([[1,2]]),n.array([[3,4]]),0))\n"
   ]
  },
  {
   "cell_type": "code",
   "execution_count": 65,
   "id": "9c714f75",
   "metadata": {},
   "outputs": [
    {
     "name": "stdout",
     "output_type": "stream",
     "text": [
      "[[1 2 3 4]]\n"
     ]
    }
   ],
   "source": [
    "# Q19\n",
    "a=n.array([[1,2]])\n",
    "b=n.array([[3],[4]])\n",
    "print(n.concatenate((a,b.T),axis=1))\n"
   ]
  },
  {
   "cell_type": "code",
   "execution_count": 66,
   "id": "b5089ca7",
   "metadata": {},
   "outputs": [
    {
     "name": "stdout",
     "output_type": "stream",
     "text": [
      "[[1 2]\n",
      " [3 4]]\n"
     ]
    }
   ],
   "source": [
    "# Q20\n",
    "a=[n.array([1,2]),n.array([3,4])]\n",
    "print(n.vstack(a))\n"
   ]
  },
  {
   "cell_type": "code",
   "execution_count": 67,
   "id": "b5b452ff",
   "metadata": {},
   "outputs": [
    {
     "name": "stdout",
     "output_type": "stream",
     "text": [
      "[1 3 5 7 9]\n"
     ]
    }
   ],
   "source": [
    "# Q21\n",
    "def p(a,b,s):\n",
    " return n.arange(a,b+1,s)\n",
    "print(p(1,10,2))\n"
   ]
  },
  {
   "cell_type": "code",
   "execution_count": 68,
   "id": "232f91d9",
   "metadata": {},
   "outputs": [
    {
     "name": "stdout",
     "output_type": "stream",
     "text": [
      "[0.         0.11111111 0.22222222 0.33333333 0.44444444 0.55555556\n",
      " 0.66666667 0.77777778 0.88888889 1.        ]\n"
     ]
    }
   ],
   "source": [
    "# Q22\n",
    "print(n.linspace(0,1,10))\n"
   ]
  },
  {
   "cell_type": "code",
   "execution_count": 69,
   "id": "d5c270db",
   "metadata": {},
   "outputs": [
    {
     "name": "stdout",
     "output_type": "stream",
     "text": [
      "[   1.            5.62341325   31.6227766   177.827941   1000.        ]\n"
     ]
    }
   ],
   "source": [
    "# Q23\n",
    "print(n.logspace(0,3,5))\n"
   ]
  },
  {
   "cell_type": "code",
   "execution_count": 70,
   "id": "a0a8e57f",
   "metadata": {},
   "outputs": [
    {
     "name": "stdout",
     "output_type": "stream",
     "text": [
      "    0   1   2\n",
      "0  90  10  56\n",
      "1   7  95  60\n",
      "2  28   5  91\n",
      "3  99  20  80\n",
      "4  62  11  82\n"
     ]
    }
   ],
   "source": [
    "# Q24\n",
    "import pandas as p\n",
    "a=n.random.randint(1,101,(5,3))\n",
    "d=p.DataFrame(a)\n",
    "print(d)\n"
   ]
  },
  {
   "cell_type": "code",
   "execution_count": 71,
   "id": "2767b0bf",
   "metadata": {},
   "outputs": [
    {
     "name": "stdout",
     "output_type": "stream",
     "text": [
      "   a\n",
      "0  1\n",
      "1  0\n",
      "2  3\n"
     ]
    }
   ],
   "source": [
    "# Q25\n",
    "def q(d,col):\n",
    " d[col]=n.where(d[col]<0,0,d[col])\n",
    " return d\n",
    "d=p.DataFrame({'a':[1,-2,3]})\n",
    "print(q(d,'a'))\n"
   ]
  },
  {
   "cell_type": "code",
   "execution_count": 72,
   "id": "77fcedf2",
   "metadata": {},
   "outputs": [
    {
     "name": "stdout",
     "output_type": "stream",
     "text": [
      "3\n"
     ]
    }
   ],
   "source": [
    "# Q26\n",
    "a=n.array([1,2,3,4])\n",
    "print(a[2])\n"
   ]
  },
  {
   "cell_type": "code",
   "execution_count": 73,
   "id": "78a44ef6",
   "metadata": {},
   "outputs": [
    {
     "name": "stdout",
     "output_type": "stream",
     "text": [
      "6\n"
     ]
    }
   ],
   "source": [
    "# Q27\n",
    "a=n.array([[1,2,3],[4,5,6]])\n",
    "print(a[1][2])\n"
   ]
  },
  {
   "cell_type": "code",
   "execution_count": 74,
   "id": "7ed4d50c",
   "metadata": {},
   "outputs": [
    {
     "name": "stdout",
     "output_type": "stream",
     "text": [
      "[6 8]\n"
     ]
    }
   ],
   "source": [
    "# Q28\n",
    "a=n.array([1,6,8,3])\n",
    "print(a[a>5])\n"
   ]
  },
  {
   "cell_type": "code",
   "execution_count": 75,
   "id": "96c97c65",
   "metadata": {},
   "outputs": [
    {
     "name": "stdout",
     "output_type": "stream",
     "text": [
      "[3 4 5 6]\n"
     ]
    }
   ],
   "source": [
    "# Q29\n",
    "a=n.array([1,2,3,4,5,6])\n",
    "print(a[2:6])\n"
   ]
  },
  {
   "cell_type": "code",
   "execution_count": 76,
   "id": "7c2bc2fc",
   "metadata": {},
   "outputs": [
    {
     "name": "stdout",
     "output_type": "stream",
     "text": [
      "[2 6]\n"
     ]
    }
   ],
   "source": [
    "# Q30\n",
    "a=n.array([[1,2,3],[4,5,6],[7,8,9]])\n",
    "print(a[[0,1],[1,2]])\n"
   ]
  },
  {
   "cell_type": "code",
   "execution_count": 77,
   "id": "4a8cbfa6",
   "metadata": {},
   "outputs": [
    {
     "name": "stdout",
     "output_type": "stream",
     "text": [
      "[2 3]\n"
     ]
    }
   ],
   "source": [
    "# Q31\n",
    "a=n.array([[1,2],[3,4]])\n",
    "print(a[[0,1],[1,0]])\n"
   ]
  },
  {
   "cell_type": "code",
   "execution_count": 78,
   "id": "93151f8b",
   "metadata": {},
   "outputs": [
    {
     "name": "stdout",
     "output_type": "stream",
     "text": [
      "[ 7 10]\n"
     ]
    }
   ],
   "source": [
    "# Q32\n",
    "a=n.array([1,4,7,10])\n",
    "print(a[a>5])\n"
   ]
  },
  {
   "cell_type": "code",
   "execution_count": 79,
   "id": "43623220",
   "metadata": {},
   "outputs": [
    {
     "name": "stdout",
     "output_type": "stream",
     "text": [
      "[ 5 15]\n"
     ]
    }
   ],
   "source": [
    "# Q33\n",
    "a=n.arange(27).reshape(3,3,3)\n",
    "print(a[[0,1],[1,2],[2,0]])\n"
   ]
  },
  {
   "cell_type": "code",
   "execution_count": 80,
   "id": "b477eef3",
   "metadata": {},
   "outputs": [
    {
     "name": "stdout",
     "output_type": "stream",
     "text": [
      "[3 4]\n"
     ]
    }
   ],
   "source": [
    "# Q34\n",
    "a=n.array([1,2,3,4,5])\n",
    "print(a[(a>2)&(a<5)])\n"
   ]
  },
  {
   "cell_type": "code",
   "execution_count": 81,
   "id": "3c52032e",
   "metadata": {},
   "outputs": [
    {
     "name": "stdout",
     "output_type": "stream",
     "text": [
      "[3 4]\n"
     ]
    }
   ],
   "source": [
    "# Q35\n",
    "a=n.array([[1,2,3],[4,5,6]])\n",
    "print(a[[0,1],[2,0]])\n"
   ]
  },
  {
   "cell_type": "code",
   "execution_count": 82,
   "id": "d9cf2562",
   "metadata": {},
   "outputs": [
    {
     "name": "stdout",
     "output_type": "stream",
     "text": [
      "[6 7 8]\n"
     ]
    }
   ],
   "source": [
    "# Q36\n",
    "a=n.array([1,2,3])\n",
    "print(a+5)\n"
   ]
  },
  {
   "cell_type": "code",
   "execution_count": 83,
   "id": "97f00599",
   "metadata": {},
   "outputs": [
    {
     "name": "stdout",
     "output_type": "stream",
     "text": [
      "[[1. 1. 1. 1.]\n",
      " [2. 2. 2. 2.]\n",
      " [3. 3. 3. 3.]]\n"
     ]
    }
   ],
   "source": [
    "# Q37\n",
    "a=n.ones((3,4))\n",
    "b=n.array([[1],[2],[3]])\n",
    "print(a*b)\n"
   ]
  },
  {
   "cell_type": "code",
   "execution_count": 84,
   "id": "8098bbe9",
   "metadata": {},
   "outputs": [
    {
     "name": "stdout",
     "output_type": "stream",
     "text": [
      "[[2. 2. 2.]\n",
      " [2. 2. 2.]\n",
      " [2. 2. 2.]\n",
      " [2. 2. 2.]]\n"
     ]
    }
   ],
   "source": [
    "# Q38\n",
    "a=n.ones((4,3))\n",
    "b=n.ones((1,3))\n",
    "print(a+b)\n"
   ]
  },
  {
   "cell_type": "code",
   "execution_count": 85,
   "id": "d799969c",
   "metadata": {},
   "outputs": [
    {
     "name": "stdout",
     "output_type": "stream",
     "text": [
      "[[2. 2. 2.]\n",
      " [2. 2. 2.]\n",
      " [2. 2. 2.]]\n"
     ]
    }
   ],
   "source": [
    "# Q39\n",
    "a=n.ones((3,1))\n",
    "b=n.ones((1,3))\n",
    "print(a+b)\n"
   ]
  },
  {
   "cell_type": "code",
   "execution_count": 86,
   "id": "89f3013d",
   "metadata": {},
   "outputs": [
    {
     "name": "stdout",
     "output_type": "stream",
     "text": [
      "bad shape\n"
     ]
    }
   ],
   "source": [
    "# Q40\n",
    "a=n.ones((2,3))\n",
    "b=n.ones((2,2))\n",
    "try:\n",
    " print(a*b)\n",
    "except:\n",
    " print('bad shape')\n"
   ]
  },
  {
   "cell_type": "code",
   "execution_count": 87,
   "id": "856f603d",
   "metadata": {},
   "outputs": [
    {
     "name": "stdout",
     "output_type": "stream",
     "text": [
      "[2. 3.]\n"
     ]
    }
   ],
   "source": [
    "# Q41\n",
    "a=n.array([[1,2],[3,4]])\n",
    "print(a.mean(axis=0))\n"
   ]
  },
  {
   "cell_type": "code",
   "execution_count": 88,
   "id": "ca02e065",
   "metadata": {},
   "outputs": [
    {
     "name": "stdout",
     "output_type": "stream",
     "text": [
      "[5 3]\n"
     ]
    }
   ],
   "source": [
    "# Q42\n",
    "a=n.array([[1,5],[2,3]])\n",
    "print(a.max(axis=1))\n"
   ]
  },
  {
   "cell_type": "code",
   "execution_count": 89,
   "id": "34b468c3",
   "metadata": {},
   "outputs": [
    {
     "name": "stdout",
     "output_type": "stream",
     "text": [
      "[1 0]\n"
     ]
    }
   ],
   "source": [
    "# Q43\n",
    "a=n.array([[1,5],[2,3]])\n",
    "print(a.argmax(axis=0))\n"
   ]
  },
  {
   "cell_type": "code",
   "execution_count": 90,
   "id": "5806a382",
   "metadata": {},
   "outputs": [
    {
     "name": "stdout",
     "output_type": "stream",
     "text": [
      "[array([6, 9]), array([18, 21])]\n"
     ]
    }
   ],
   "source": [
    "# Q44\n",
    "def f(x):\n",
    " return n.convolve(x,[1,1,1],'valid')\n",
    "a=n.array([[1,2,3,4],[5,6,7,8]])\n",
    "print([f(r) for r in a])\n"
   ]
  },
  {
   "cell_type": "code",
   "execution_count": 91,
   "id": "b5caacbd",
   "metadata": {},
   "outputs": [
    {
     "name": "stdout",
     "output_type": "stream",
     "text": [
      "[ True  True]\n"
     ]
    }
   ],
   "source": [
    "# Q45\n",
    "a=n.array([[2,4],[6,8]])\n",
    "print((a%2==0).all(axis=0))\n"
   ]
  },
  {
   "cell_type": "code",
   "execution_count": 92,
   "id": "a944f941",
   "metadata": {},
   "outputs": [
    {
     "name": "stdout",
     "output_type": "stream",
     "text": [
      "[[0 1 2]\n",
      " [3 4 5]]\n"
     ]
    }
   ],
   "source": [
    "# Q46\n",
    "a=n.arange(6)\n",
    "print(a.reshape(2,3))\n"
   ]
  },
  {
   "cell_type": "code",
   "execution_count": 93,
   "id": "eb3934e1",
   "metadata": {},
   "outputs": [
    {
     "name": "stdout",
     "output_type": "stream",
     "text": [
      "[1 2 3 4]\n"
     ]
    }
   ],
   "source": [
    "# Q47\n",
    "a=n.array([[1,2],[3,4]])\n",
    "print(a.flatten())\n"
   ]
  },
  {
   "cell_type": "code",
   "execution_count": 94,
   "id": "07950931",
   "metadata": {},
   "outputs": [
    {
     "name": "stdout",
     "output_type": "stream",
     "text": [
      "[[1 2]\n",
      " [3 4]]\n"
     ]
    }
   ],
   "source": [
    "# Q48\n",
    "a=n.array([[1,2]])\n",
    "b=n.array([[3,4]])\n",
    "print(n.concatenate((a,b),axis=0))\n"
   ]
  },
  {
   "cell_type": "code",
   "execution_count": 95,
   "id": "42f00df8",
   "metadata": {},
   "outputs": [
    {
     "name": "stdout",
     "output_type": "stream",
     "text": [
      "[array([1, 2]), array([3, 4]), array([5, 6])]\n"
     ]
    }
   ],
   "source": [
    "# Q49\n",
    "a=n.array([1,2,3,4,5,6])\n",
    "print(n.split(a,3))\n"
   ]
  },
  {
   "cell_type": "code",
   "execution_count": 96,
   "id": "27bfada2",
   "metadata": {},
   "outputs": [
    {
     "name": "stdout",
     "output_type": "stream",
     "text": [
      "[1 9 3]\n"
     ]
    }
   ],
   "source": [
    "# Q50\n",
    "a=n.array([1,2,3])\n",
    "a=n.insert(a,1,9)\n",
    "a=n.delete(a,2)\n",
    "print(a)\n"
   ]
  },
  {
   "cell_type": "code",
   "execution_count": 97,
   "id": "5b767042",
   "metadata": {},
   "outputs": [
    {
     "name": "stdout",
     "output_type": "stream",
     "text": [
      "[4 6]\n"
     ]
    }
   ],
   "source": [
    "# Q51\n",
    "a=n.array([1,2])\n",
    "b=n.array([3,4])\n",
    "print(a+b)\n"
   ]
  },
  {
   "cell_type": "code",
   "execution_count": 98,
   "id": "a0ed4ff5",
   "metadata": {},
   "outputs": [
    {
     "name": "stdout",
     "output_type": "stream",
     "text": [
      "[3 5]\n"
     ]
    }
   ],
   "source": [
    "# Q52\n",
    "a=n.array([5,6])\n",
    "b=n.array([2,1])\n",
    "print(a-b)\n"
   ]
  },
  {
   "cell_type": "code",
   "execution_count": 99,
   "id": "06b2b58d",
   "metadata": {},
   "outputs": [
    {
     "name": "stdout",
     "output_type": "stream",
     "text": [
      "[3 8]\n"
     ]
    }
   ],
   "source": [
    "# Q53\n",
    "a=n.array([1,2])\n",
    "b=n.array([3,4])\n",
    "print(a*b)\n"
   ]
  },
  {
   "cell_type": "code",
   "execution_count": 100,
   "id": "089a8bda",
   "metadata": {},
   "outputs": [
    {
     "name": "stdout",
     "output_type": "stream",
     "text": [
      "[3. 4.]\n"
     ]
    }
   ],
   "source": [
    "# Q54\n",
    "a=n.array([6,8])\n",
    "b=n.array([2,2])\n",
    "print(a/b)\n"
   ]
  },
  {
   "cell_type": "code",
   "execution_count": 101,
   "id": "26cfe64f",
   "metadata": {},
   "outputs": [
    {
     "name": "stdout",
     "output_type": "stream",
     "text": [
      "[8 9]\n"
     ]
    }
   ],
   "source": [
    "# Q55\n",
    "a=n.array([2,3])\n",
    "b=n.array([3,2])\n",
    "print(a**b)\n"
   ]
  },
  {
   "cell_type": "code",
   "execution_count": 102,
   "id": "23240cd6",
   "metadata": {},
   "outputs": [
    {
     "name": "stdout",
     "output_type": "stream",
     "text": [
      "[1 0 1]\n"
     ]
    }
   ],
   "source": [
    "# Q56\n",
    "a=n.array(['apple','banana','apple'])\n",
    "print(n.char.count(a,'apple'))\n"
   ]
  },
  {
   "cell_type": "code",
   "execution_count": 103,
   "id": "2208bd3b",
   "metadata": {},
   "outputs": [
    {
     "name": "stdout",
     "output_type": "stream",
     "text": [
      "['H', 'L', 'L', 'W', 'L', 'D']\n"
     ]
    }
   ],
   "source": [
    "# Q57\n",
    "a=n.array(['HeLLo','WorLD'])\n",
    "print([c for x in a for c in x if c.isupper()])\n"
   ]
  },
  {
   "cell_type": "code",
   "execution_count": 104,
   "id": "d3ee25ff",
   "metadata": {},
   "outputs": [
    {
     "name": "stdout",
     "output_type": "stream",
     "text": [
      "['hi sun' 'sun is big']\n"
     ]
    }
   ],
   "source": [
    "# Q58\n",
    "a=n.array(['hi moon','moon is big'])\n",
    "print(n.char.replace(a,'moon','sun'))\n"
   ]
  },
  {
   "cell_type": "code",
   "execution_count": 105,
   "id": "6aa405d9",
   "metadata": {},
   "outputs": [
    {
     "name": "stdout",
     "output_type": "stream",
     "text": [
      "['hi1' 'bye2']\n"
     ]
    }
   ],
   "source": [
    "# Q59\n",
    "a=n.array(['hi','bye'])\n",
    "b=n.array(['1','2'])\n",
    "print(n.char.add(a,b))\n"
   ]
  },
  {
   "cell_type": "code",
   "execution_count": 106,
   "id": "eaa4d9a5",
   "metadata": {},
   "outputs": [
    {
     "name": "stdout",
     "output_type": "stream",
     "text": [
      "5\n"
     ]
    }
   ],
   "source": [
    "# Q60\n",
    "a=n.array(['a','abc','hello'])\n",
    "print(max([len(i) for i in a]))\n"
   ]
  },
  {
   "cell_type": "code",
   "execution_count": 107,
   "id": "522fb616",
   "metadata": {},
   "outputs": [
    {
     "name": "stdout",
     "output_type": "stream",
     "text": [
      "549.33 564.0 75897.1011 275.4942850586923\n"
     ]
    }
   ],
   "source": [
    "# Q61\n",
    "a=n.random.randint(1,1001,100)\n",
    "print(n.mean(a),n.median(a),n.var(a),n.std(a))\n"
   ]
  },
  {
   "cell_type": "code",
   "execution_count": 108,
   "id": "80fc0452",
   "metadata": {},
   "outputs": [
    {
     "name": "stdout",
     "output_type": "stream",
     "text": [
      "31.5 75.0\n"
     ]
    }
   ],
   "source": [
    "# Q62\n",
    "a=n.random.randint(1,101,50)\n",
    "print(n.percentile(a,25),n.percentile(a,75))\n"
   ]
  },
  {
   "cell_type": "code",
   "execution_count": 109,
   "id": "e18462d3",
   "metadata": {},
   "outputs": [
    {
     "name": "stdout",
     "output_type": "stream",
     "text": [
      "[[1. 1.]\n",
      " [1. 1.]]\n"
     ]
    }
   ],
   "source": [
    "# Q63\n",
    "a=n.array([1,2,3])\n",
    "b=n.array([4,5,6])\n",
    "print(n.corrcoef(a,b))\n"
   ]
  },
  {
   "cell_type": "code",
   "execution_count": 110,
   "id": "718edea9",
   "metadata": {},
   "outputs": [
    {
     "name": "stdout",
     "output_type": "stream",
     "text": [
      "[[ 4  4]\n",
      " [10  8]]\n"
     ]
    }
   ],
   "source": [
    "# Q64\n",
    "a=n.array([[1,2],[3,4]])\n",
    "b=n.array([[2,0],[1,2]])\n",
    "print(n.dot(a,b))\n"
   ]
  },
  {
   "cell_type": "code",
   "execution_count": 111,
   "id": "246002c1",
   "metadata": {},
   "outputs": [
    {
     "name": "stdout",
     "output_type": "stream",
     "text": [
      "[16.9 48.5 89.3]\n"
     ]
    }
   ],
   "source": [
    "# Q65\n",
    "a=n.random.randint(1,101,50)\n",
    "print(n.percentile(a,[10,50,90]))\n"
   ]
  },
  {
   "cell_type": "code",
   "execution_count": 112,
   "id": "a02f882a",
   "metadata": {},
   "outputs": [
    {
     "name": "stdout",
     "output_type": "stream",
     "text": [
      "(array([1], dtype=int64),)\n"
     ]
    }
   ],
   "source": [
    "# Q66\n",
    "a=n.array([5,10,15])\n",
    "print(n.where(a==10))\n"
   ]
  },
  {
   "cell_type": "code",
   "execution_count": 113,
   "id": "8fcc48c7",
   "metadata": {},
   "outputs": [
    {
     "name": "stdout",
     "output_type": "stream",
     "text": [
      "[ 8 19 19 20 51 57 69 69 69 71]\n"
     ]
    }
   ],
   "source": [
    "# Q67\n",
    "a=n.random.randint(1,100,10)\n",
    "print(n.sort(a))\n"
   ]
  },
  {
   "cell_type": "code",
   "execution_count": 114,
   "id": "de528ab7",
   "metadata": {},
   "outputs": [
    {
     "name": "stdout",
     "output_type": "stream",
     "text": [
      "[25 30]\n"
     ]
    }
   ],
   "source": [
    "# Q68\n",
    "a=n.array([10,25,30])\n",
    "print(a[a>20])\n"
   ]
  },
  {
   "cell_type": "code",
   "execution_count": 115,
   "id": "43750840",
   "metadata": {},
   "outputs": [
    {
     "name": "stdout",
     "output_type": "stream",
     "text": [
      "[ 3  6 12]\n"
     ]
    }
   ],
   "source": [
    "# Q69\n",
    "a=n.array([3,6,10,12])\n",
    "print(a[a%3==0])\n"
   ]
  },
  {
   "cell_type": "code",
   "execution_count": 116,
   "id": "fe63e43b",
   "metadata": {},
   "outputs": [
    {
     "name": "stdout",
     "output_type": "stream",
     "text": [
      "[25 35]\n"
     ]
    }
   ],
   "source": [
    "# Q70\n",
    "a=n.array([10,25,35,45])\n",
    "print(a[(a>=20)&(a<=40)])\n"
   ]
  },
  {
   "cell_type": "code",
   "execution_count": 119,
   "id": "69a50f5a",
   "metadata": {},
   "outputs": [
    {
     "name": "stdout",
     "output_type": "stream",
     "text": [
      "=\n"
     ]
    }
   ],
   "source": [
    "# Q71\n",
    "a=n.array([1,2,3])\n",
    "print(a.dtype.byteorder)\n"
   ]
  },
  {
   "cell_type": "code",
   "execution_count": 118,
   "id": "6ead19c6",
   "metadata": {},
   "outputs": [
    {
     "name": "stdout",
     "output_type": "stream",
     "text": [
      "[256   1]\n"
     ]
    }
   ],
   "source": [
    "# Q72\n",
    "a=n.array([1,256],dtype='>i2')\n",
    "a.byteswap(True)\n",
    "print(a)\n"
   ]
  }
 ],
 "metadata": {
  "kernelspec": {
   "display_name": "Python 3 (ipykernel)",
   "language": "python",
   "name": "python3"
  },
  "language_info": {
   "codemirror_mode": {
    "name": "ipython",
    "version": 3
   },
   "file_extension": ".py",
   "mimetype": "text/x-python",
   "name": "python",
   "nbconvert_exporter": "python",
   "pygments_lexer": "ipython3",
   "version": "3.11.7"
  }
 },
 "nbformat": 4,
 "nbformat_minor": 5
}
