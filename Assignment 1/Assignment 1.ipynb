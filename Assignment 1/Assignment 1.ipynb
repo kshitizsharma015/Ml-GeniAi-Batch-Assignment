{
 "cells": [
  {
   "cell_type": "code",
   "execution_count": 1,
   "id": "bd140147",
   "metadata": {},
   "outputs": [
    {
     "name": "stdout",
     "output_type": "stream",
     "text": [
      "20\n"
     ]
    }
   ],
   "source": [
    "# Q1\n",
    "def big2(lst):\n",
    "    m = float('-inf')\n",
    "    s = float('-inf')\n",
    "    for x in lst:\n",
    "        if x > m:\n",
    "            s = m\n",
    "            m = x\n",
    "        elif s < x < m:\n",
    "            s = x\n",
    "    return s\n",
    "print(big2([10, 20, 5, 8, 50]))"
   ]
  },
  {
   "cell_type": "code",
   "execution_count": 2,
   "id": "fbdd8821",
   "metadata": {},
   "outputs": [
    {
     "name": "stdout",
     "output_type": "stream",
     "text": [
      "[1, 2, 3, 4]\n"
     ]
    }
   ],
   "source": [
    "# Q2\n",
    "def nodup(l):\n",
    " new = []\n",
    " for i in l:\n",
    "  if i not in new:\n",
    "   new.append(i)\n",
    " new.sort()\n",
    " return new\n",
    "print(nodup([4, 2, 4, 3, 2, 1]))"
   ]
  },
  {
   "cell_type": "code",
   "execution_count": 3,
   "id": "a66bac6f",
   "metadata": {},
   "outputs": [
    {
     "name": "stdout",
     "output_type": "stream",
     "text": [
      "(60, 20.0)\n"
     ]
    }
   ],
   "source": [
    "# Q3\n",
    "def total(l):\n",
    " total = 0\n",
    " for i in l:\n",
    "  total = total + i\n",
    " avg = total / len(l)\n",
    " return total, avg\n",
    "print(total([10, 20, 30]))"
   ]
  },
  {
   "cell_type": "code",
   "execution_count": 4,
   "id": "1f757d43",
   "metadata": {},
   "outputs": [
    {
     "name": "stdout",
     "output_type": "stream",
     "text": [
      "1\n"
     ]
    }
   ],
   "source": [
    "# Q4\n",
    "def prime(n):\n",
    " if n <= 1:\n",
    "  return 0\n",
    " i = 2\n",
    " while i*i <= n:\n",
    "  if n % i == 0:\n",
    "   return 0\n",
    "  i = i + 1\n",
    " return 1\n",
    "print(prime(17))"
   ]
  },
  {
   "cell_type": "code",
   "execution_count": 5,
   "id": "cab233cb",
   "metadata": {},
   "outputs": [
    {
     "name": "stdout",
     "output_type": "stream",
     "text": [
      "(3, 7, 3, 2)\n"
     ]
    }
   ],
   "source": [
    "# Q5\n",
    "def cntc(txt):\n",
    " v = 0\n",
    " c = 0\n",
    " d = 0\n",
    " sp = 0\n",
    " for ch in txt:\n",
    "  if ch.isalpha():\n",
    "   if ch.lower() in 'aeiou':\n",
    "    v = v + 1\n",
    "   else:\n",
    "    c = c + 1\n",
    "  elif ch.isdigit():\n",
    "   d = d + 1\n",
    "  else:\n",
    "   sp = sp + 1\n",
    " return v, c, d, sp\n",
    "print(cntc(\"Hello World 123\"))"
   ]
  },
  {
   "cell_type": "code",
   "execution_count": 6,
   "id": "aa14f5c9",
   "metadata": {},
   "outputs": [
    {
     "name": "stdout",
     "output_type": "stream",
     "text": [
      "2\n",
      "4\n",
      "6\n",
      "8\n",
      "10\n",
      "12\n",
      "14\n",
      "16\n",
      "18\n",
      "20\n",
      "22\n",
      "24\n",
      "26\n",
      "28\n",
      "30\n",
      "32\n",
      "34\n",
      "36\n",
      "38\n",
      "40\n",
      "42\n",
      "44\n",
      "46\n",
      "48\n",
      "50\n",
      "52\n",
      "54\n",
      "56\n",
      "58\n",
      "60\n",
      "62\n",
      "64\n",
      "66\n",
      "68\n",
      "70\n",
      "72\n",
      "74\n",
      "76\n",
      "78\n",
      "80\n",
      "82\n",
      "84\n",
      "86\n",
      "88\n",
      "90\n",
      "92\n",
      "94\n",
      "96\n",
      "98\n",
      "100\n"
     ]
    }
   ],
   "source": [
    "# Q6\n",
    "i = 2\n",
    "while i <= 100:\n",
    " print(i)\n",
    " i = i + 2"
   ]
  },
  {
   "cell_type": "code",
   "execution_count": 7,
   "id": "a0d8b457",
   "metadata": {},
   "outputs": [
    {
     "name": "stdout",
     "output_type": "stream",
     "text": [
      "7 x 1 = 7\n",
      "7 x 2 = 14\n",
      "7 x 3 = 21\n",
      "7 x 4 = 28\n",
      "7 x 5 = 35\n",
      "7 x 6 = 42\n",
      "7 x 7 = 49\n",
      "7 x 8 = 56\n",
      "7 x 9 = 63\n",
      "7 x 10 = 70\n"
     ]
    }
   ],
   "source": [
    "# Q7\n",
    "def table(n):\n",
    " i = 1\n",
    " while i <= 10:\n",
    "  print(n, 'x', i, '=', n*i)\n",
    "  i = i + 1\n",
    "table(7)"
   ]
  },
  {
   "cell_type": "code",
   "execution_count": 8,
   "id": "c634a900",
   "metadata": {},
   "outputs": [
    {
     "name": "stdout",
     "output_type": "stream",
     "text": [
      "15\n",
      "30\n",
      "45\n",
      "60\n",
      "75\n",
      "90\n"
     ]
    }
   ],
   "source": [
    "# Q8\n",
    "x = 1\n",
    "while x <= 100:\n",
    " if x % 3 == 0:\n",
    "  if x % 5 == 0:\n",
    "   print(x)\n",
    " x = x + 1"
   ]
  },
  {
   "cell_type": "code",
   "execution_count": 9,
   "id": "ac2a97ee",
   "metadata": {},
   "outputs": [
    {
     "name": "stdout",
     "output_type": "stream",
     "text": [
      "54321\n"
     ]
    }
   ],
   "source": [
    "# Q9\n",
    "def revn(n):\n",
    " r = 0\n",
    " while n > 0:\n",
    "  d = n % 10\n",
    "  r = r * 10 + d\n",
    "  n = n // 10\n",
    " return r\n",
    "print(revn(12345))"
   ]
  },
  {
   "cell_type": "code",
   "execution_count": 10,
   "id": "92dda5a0",
   "metadata": {},
   "outputs": [
    {
     "name": "stdout",
     "output_type": "stream",
     "text": [
      "{'b': 1, 'a': 3, 'n': 2}\n"
     ]
    }
   ],
   "source": [
    "# Q10\n",
    "def freq(s):\n",
    " f = {}\n",
    " for c in s:\n",
    "  if c in f:\n",
    "   f[c] = f[c] + 1\n",
    "  else:\n",
    "   f[c] = 1\n",
    " return f\n",
    "print(freq(\"banana\"))"
   ]
  },
  {
   "cell_type": "code",
   "execution_count": 11,
   "id": "84bb5255",
   "metadata": {},
   "outputs": [
    {
     "name": "stdout",
     "output_type": "stream",
     "text": [
      "[2, 3, 5, 7, 11]\n"
     ]
    }
   ],
   "source": [
    "# Q11\n",
    "def primes(n):\n",
    " def chk(x):\n",
    "  if x <= 1:\n",
    "   return False\n",
    "  for i in range(2, int(x**0.5)+1):\n",
    "   if x % i == 0:\n",
    "    return False\n",
    "  return True\n",
    " p = []\n",
    " x = 2\n",
    " while len(p) < n:\n",
    "  if chk(x):\n",
    "   p.append(x)\n",
    "  x = x + 1\n",
    " return p\n",
    "print(primes(5))"
   ]
  },
  {
   "cell_type": "code",
   "execution_count": 12,
   "id": "a53db0b0",
   "metadata": {},
   "outputs": [
    {
     "name": "stdout",
     "output_type": "stream",
     "text": [
      "True\n"
     ]
    }
   ],
   "source": [
    "# Q12\n",
    "def paln(n):\n",
    " temp = n\n",
    " rev = 0\n",
    " while n > 0:\n",
    "  dig = n % 10\n",
    "  rev = rev * 10 + dig\n",
    "  n = n // 10\n",
    " return temp == rev\n",
    "print(paln(121))"
   ]
  },
  {
   "cell_type": "code",
   "execution_count": 13,
   "id": "cbbb7d06",
   "metadata": {},
   "outputs": [
    {
     "name": "stdout",
     "output_type": "stream",
     "text": [
      "3\n"
     ]
    }
   ],
   "source": [
    "# Q13\n",
    "def countem(l, val):\n",
    " ct = 0\n",
    " for i in l:\n",
    "  if i == val:\n",
    "   ct = ct + 1\n",
    " return ct\n",
    "print(countem([1,2,2,3,4,2], 2))"
   ]
  },
  {
   "cell_type": "code",
   "execution_count": 14,
   "id": "55cf07ed",
   "metadata": {},
   "outputs": [
    {
     "name": "stdout",
     "output_type": "stream",
     "text": [
      "[4, 16, 36, 64, 100, 144, 196, 256, 324, 400, 484, 576, 676, 784, 900, 1024, 1156, 1296, 1444, 1600, 1764, 1936, 2116, 2304, 2500]\n"
     ]
    }
   ],
   "source": [
    "# Q14\n",
    "def evsq():\n",
    " r = []\n",
    " for i in range(2, 51):\n",
    "  if i % 2 == 0:\n",
    "   r.append(i*i)\n",
    " return r\n",
    "print(evsq())"
   ]
  },
  {
   "cell_type": "code",
   "execution_count": 15,
   "id": "0472b204",
   "metadata": {},
   "outputs": [
    {
     "name": "stdout",
     "output_type": "stream",
     "text": [
      "[1, 2, 3, 4, 5]\n"
     ]
    }
   ],
   "source": [
    "# Q15\n",
    "def uniq(lst):\n",
    " seen = []\n",
    " for i in lst:\n",
    "  if i not in seen:\n",
    "   seen.append(i)\n",
    " return seen\n",
    "print(uniq([1,2,2,3,4,3,5]))"
   ]
  },
  {
   "cell_type": "code",
   "execution_count": 16,
   "id": "32d7882d",
   "metadata": {},
   "outputs": [
    {
     "name": "stdout",
     "output_type": "stream",
     "text": [
      "True\n"
     ]
    }
   ],
   "source": [
    "# Q16\n",
    "def even(x):\n",
    " return x % 2 == 0\n",
    "print(even(4))"
   ]
  },
  {
   "cell_type": "code",
   "execution_count": 17,
   "id": "b2f657a4",
   "metadata": {},
   "outputs": [
    {
     "name": "stdout",
     "output_type": "stream",
     "text": [
      "[1, 3, 6, 10]\n"
     ]
    }
   ],
   "source": [
    "# Q17\n",
    "def csum(l):\n",
    " r = []\n",
    " s = 0\n",
    " for i in l:\n",
    "  s = s + i\n",
    "  r.append(s)\n",
    " return r\n",
    "print(csum([1,2,3,4]))"
   ]
  },
  {
   "cell_type": "code",
   "execution_count": 18,
   "id": "8a78c4b5",
   "metadata": {},
   "outputs": [
    {
     "name": "stdout",
     "output_type": "stream",
     "text": [
      "120\n"
     ]
    }
   ],
   "source": [
    "# Q18\n",
    "def fact(x):\n",
    " if x == 0:\n",
    "  return 1\n",
    " else:\n",
    "  return x * fact(x - 1)\n",
    "print(fact(5))"
   ]
  },
  {
   "cell_type": "code",
   "execution_count": 19,
   "id": "7830aba1",
   "metadata": {},
   "outputs": [
    {
     "name": "stdout",
     "output_type": "stream",
     "text": [
      "0\n",
      "1\n",
      "1\n",
      "2\n",
      "3\n",
      "5\n",
      "8\n",
      "13\n",
      "21\n",
      "34\n"
     ]
    }
   ],
   "source": [
    "# Q19\n",
    "def fibo(n):\n",
    " a = 0\n",
    " b = 1\n",
    " count = 0\n",
    " while count < n:\n",
    "  print(a)\n",
    "  c = a + b\n",
    "  a = b\n",
    "  b = c\n",
    "  count = count + 1\n",
    "fibo(10)"
   ]
  },
  {
   "cell_type": "code",
   "execution_count": 20,
   "id": "ad5cb93a",
   "metadata": {},
   "outputs": [
    {
     "name": "stdout",
     "output_type": "stream",
     "text": [
      "True\n"
     ]
    }
   ],
   "source": [
    "# Q20\n",
    "def pals(s):\n",
    " rev = s[::-1]\n",
    " return s == rev\n",
    "print(pals(\"madam\"))"
   ]
  },
  {
   "cell_type": "code",
   "execution_count": 21,
   "id": "6b1c7403",
   "metadata": {},
   "outputs": [
    {
     "name": "stdout",
     "output_type": "stream",
     "text": [
      "This is a sample text file.\n",
      "It has a few lines of text.\n",
      "Some lines might be longer than fifty characters just for testing.\n",
      "Short one.\n",
      "Another line here.\n"
     ]
    }
   ],
   "source": [
    "# Q41\n",
    "try:\n",
    " f = open(\"sample.txt\")\n",
    " print(f.read())\n",
    " f.close()\n",
    "except:\n",
    " print(\"no file\")"
   ]
  },
  {
   "cell_type": "code",
   "execution_count": 22,
   "id": "f4d71a54",
   "metadata": {},
   "outputs": [
    {
     "name": "stdout",
     "output_type": "stream",
     "text": [
      "29\n"
     ]
    }
   ],
   "source": [
    "# Q42\n",
    "try:\n",
    " f = open(\"sample.txt\")\n",
    " data = f.read()\n",
    " print(len(data.split()))\n",
    " f.close()\n",
    "except:\n",
    " print(\"file error\")"
   ]
  },
  {
   "cell_type": "code",
   "execution_count": 23,
   "id": "fcaf69f8",
   "metadata": {},
   "outputs": [],
   "source": [
    "# Q43\n",
    "try:\n",
    " f1 = open(\"sample.txt\")\n",
    " f2 = open(\"copy.txt\", \"w\")\n",
    " f2.write(f1.read())\n",
    " f1.close()\n",
    " f2.close()\n",
    "except:\n",
    " print(\"error file\")"
   ]
  },
  {
   "cell_type": "code",
   "execution_count": 24,
   "id": "0a3c4e9a",
   "metadata": {},
   "outputs": [
    {
     "name": "stdout",
     "output_type": "stream",
     "text": [
      "Some lines might be longer than fifty characters just for testing.\n"
     ]
    }
   ],
   "source": [
    "# Q44\n",
    "try:\n",
    " f = open(\"sample.txt\")\n",
    " for line in f:\n",
    "  if len(line.strip()) > 50:\n",
    "   print(line.strip())\n",
    " f.close()\n",
    "except:\n",
    " print(\"nope\")"
   ]
  },
  {
   "cell_type": "code",
   "execution_count": 25,
   "id": "ec33e05e",
   "metadata": {},
   "outputs": [],
   "source": [
    "# Q45\n",
    "lines = [\"Hello\", \"World\"]\n",
    "f = open(\"output.txt\", \"w\")\n",
    "for l in lines:\n",
    " f.write(l + \"\\n\")\n",
    "f.close()"
   ]
  },
  {
   "cell_type": "code",
   "execution_count": null,
   "id": "13d9ce8b",
   "metadata": {},
   "outputs": [],
   "source": [
    "# Q46\n",
    "try:\n",
    " a = int(input())\n",
    " b = int(input())\n",
    " print(a / b)\n",
    "except:\n",
    " print(\"cant divide\")"
   ]
  },
  {
   "cell_type": "code",
   "execution_count": null,
   "id": "ce71e396",
   "metadata": {},
   "outputs": [],
   "source": [
    "# Q47\n",
    "try:\n",
    " n = int(input())\n",
    " print(n)\n",
    "except:\n",
    " print(\"not num\")"
   ]
  },
  {
   "cell_type": "code",
   "execution_count": null,
   "id": "1a8e721a",
   "metadata": {},
   "outputs": [],
   "source": [
    "# Q48\n",
    "try:\n",
    " open(\"nofile.txt\")\n",
    "except:\n",
    " print(\"missing\")"
   ]
  },
  {
   "cell_type": "code",
   "execution_count": null,
   "id": "e753a1bd",
   "metadata": {},
   "outputs": [],
   "source": [
    "# Q49\n",
    "try:\n",
    " a = [1, 2, 3]\n",
    " print(a[5])\n",
    "except:\n",
    " print(\"wrong index\")"
   ]
  },
  {
   "cell_type": "code",
   "execution_count": null,
   "id": "516476bd",
   "metadata": {},
   "outputs": [],
   "source": [
    "# Q50\n",
    "try:\n",
    " print(10/2)\n",
    "except:\n",
    " print(\"error\")\n",
    "finally:\n",
    " print(\"done\")"
   ]
  }
 ],
 "metadata": {
  "kernelspec": {
   "display_name": "Python 3 (ipykernel)",
   "language": "python",
   "name": "python3"
  },
  "language_info": {
   "codemirror_mode": {
    "name": "ipython",
    "version": 3
   },
   "file_extension": ".py",
   "mimetype": "text/x-python",
   "name": "python",
   "nbconvert_exporter": "python",
   "pygments_lexer": "ipython3",
   "version": "3.11.7"
  }
 },
 "nbformat": 4,
 "nbformat_minor": 5
}
